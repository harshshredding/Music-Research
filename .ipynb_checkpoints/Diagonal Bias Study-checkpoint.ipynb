{
 "cells": [
  {
   "cell_type": "markdown",
   "metadata": {},
   "source": [
    "## What proportion of the optimal path choices is diagonal choices ?\n"
   ]
  },
  {
   "cell_type": "code",
   "execution_count": 2,
   "metadata": {},
   "outputs": [
    {
     "name": "stdout",
     "output_type": "stream",
     "text": [
      "5\n"
     ]
    }
   ],
   "source": [
    "print(5)"
   ]
  },
  {
   "cell_type": "code",
   "execution_count": 15,
   "metadata": {},
   "outputs": [
    {
     "name": "stdout",
     "output_type": "stream",
     "text": [
      "hello\n",
      "left count : 125\n",
      "diagonalCount : 365\n",
      "upCount : 125\n",
      "diagonal to right ratio 2.92\n"
     ]
    }
   ],
   "source": [
    "import numpy as numpy\n",
    "import random\n",
    "w, h = 50, 50;\n",
    "print('hello')\n",
    "ResultMatrix = [[0 for x in range(w)] for y in range(h)]\n",
    "\n",
    "\n",
    "topWeight = 1\n",
    "leftWeight = 1\n",
    "diagonalWeight = 1\n",
    "\n",
    "leftCount = 0\n",
    "upCount = 0\n",
    "diagonalCount = 0\n",
    "\n",
    "for i in range(10):\n",
    "\n",
    "\t# fill random stuff in the cost matrix\n",
    "\tMatrix = [[random.uniform(0, 1) for x in range(w)] for y in range(h)]\n",
    "\n",
    "\t# fill cumulative cost matrix with stuff\n",
    "\tfor i in range(h):\n",
    "\t\tfor j in range(w):\n",
    "\t\t\ttop = float('inf')\n",
    "\t\t\tleft = float('inf')\n",
    "\t\t\tdiagonal = float('inf')\n",
    "\t\t\tif(i - 1 >= 0):\n",
    "\t\t\t\ttop = ResultMatrix[i - 1][j] + topWeight*Matrix[i][j]\n",
    "\t\t\t\n",
    "\t\t\tif(j - 1 >= 0):\n",
    "\t\t\t\tleft = ResultMatrix[i][j - 1]+ leftWeight*Matrix[i][j]\n",
    "\t\t\t\n",
    "\t\t\tif(i - 1 >= 0 and j - 1 >= 0):\n",
    "\t\t\t\tdiagonal = ResultMatrix[i - 1][j - 1] + diagonalWeight*Matrix[i][j]\n",
    "\t\t\t\n",
    "\t\t\tif(i == 0 and j == 0):\n",
    "\t\t\t\tResultMatrix[i][j] = Matrix[0][0]\n",
    "\t\t\telse:\n",
    "\t\t\t\tResultMatrix[i][j] = min(top, left, diagonal)\n",
    "\n",
    "\trow = h - 1\n",
    "\tcolumn = w - 1\n",
    "\n",
    "\t# draw the shortest path on the cumulative matrix. \n",
    "\twhile row != 0 or column != 0 : \n",
    "\n",
    "\t\tif(row == 0):\n",
    "\t\t\tResultMatrix[row][column] = '  x'\n",
    "\t\t\tcolumn = column - 1\n",
    "\t\t\tleftCount = leftCount + 1\n",
    "\t\telif(column == 0):\n",
    "\n",
    "\t\t\tResultMatrix[row][column] = '  x'\n",
    "\t\t\trow = row - 1\n",
    "\t\t\tupCount = upCount + 1\n",
    "\n",
    "\t\telif(row != 0 and column != 0):\n",
    "\t\t\t#print('column : ' + `column` + ' row: ' + `row`)\n",
    "\t\t\ttop = float('inf')\n",
    "\t\t\tleft = float('inf')\n",
    "\t\t\tdiagonal = float('inf')\n",
    "\t\t\t\n",
    "\t\t\tif(row - 1 >= 0 ):\n",
    "\t\t\t\ttop = ResultMatrix[row - 1][column] + topWeight*Matrix[row][column]\n",
    "\t\t\t\n",
    "\t\t\tif(column - 1 >= 0):\n",
    "\t\t\t\tleft = ResultMatrix[row][column - 1] + leftWeight*Matrix[row][column]\n",
    "\t\t\t\n",
    "\t\t\tif((row - 1 >= 0) and (column - 1 >= 0)):\n",
    "\t\t\t\tdiagonal = ResultMatrix[row - 1][column - 1] + diagonalWeight*Matrix[row][column]\n",
    "\n",
    "\t\t\tchoice = min(top, left, diagonal)\n",
    "\n",
    "\t\t\tResultMatrix[row][column] = '  x'\n",
    "\n",
    "\t\t\tif choice == top :\n",
    "\t\t\t\trow = row - 1\n",
    "\t\t\t\tupCount = upCount + 1\n",
    "\t\t\telif choice == left :\n",
    "\t\t\t\tcolumn = column - 1\n",
    "\t\t\t\tleftCount = leftCount + 1\n",
    "\t\t\telse :\n",
    "\t\t\t\trow = row - 1\n",
    "\t\t\t\tcolumn = column - 1\n",
    "\t\t\t\tdiagonalCount = diagonalCount + 1\n",
    "\n",
    "print('left count : ' + `leftCount`)\n",
    "print('diagonalCount : ' + `diagonalCount`)\n",
    "print('upCount : ' + `upCount`)\n",
    "print('diagonal to right ratio ' + `1.0 * diagonalCount/ upCount`)"
   ]
  },
  {
   "cell_type": "markdown",
   "metadata": {},
   "source": [
    "## What proportion of all the choices in the Cumulative Cost matrix is diagonal choices ?"
   ]
  },
  {
   "cell_type": "code",
   "execution_count": 16,
   "metadata": {},
   "outputs": [
    {
     "name": "stdout",
     "output_type": "stream",
     "text": [
      "left count : 791616\n",
      "diagonalCount : 918257\n",
      "upCount : 789127\n"
     ]
    }
   ],
   "source": [
    "leftCount = 0\n",
    "upCount = 0\n",
    "diagonalCount = 0\n",
    "ResultMatrix = [[0 for x in range(w)] for y in range(h)]\n",
    "\n",
    "# get data from 10000 iterations\n",
    "for i in range(1000):\n",
    "\n",
    "\t# fill random stuff in the cost matrix\n",
    "\tMatrix = [[random.uniform(0, 1) for x in range(w)] for y in range(h)]\n",
    "\n",
    "\t# fill cumulative cost matrix with stuff\n",
    "\tfor i in range(h):\n",
    "\t\tfor j in range(w):\n",
    "\t\t\ttop = float('inf')\n",
    "\t\t\tleft = float('inf')\n",
    "\t\t\tdiagonal = float('inf')\n",
    "\t\t\tif(i - 1 >= 0):\n",
    "\t\t\t\ttop = ResultMatrix[i - 1][j] + Matrix[i][j]\n",
    "\t\t\t\n",
    "\t\t\tif(j - 1 >= 0):\n",
    "\t\t\t\tleft = ResultMatrix[i][j - 1]+ Matrix[i][j]\n",
    "\t\t\t\n",
    "\t\t\tif(i - 1 >= 0 and j - 1 >= 0):\n",
    "\t\t\t\tdiagonal = ResultMatrix[i - 1][j - 1] + Matrix[i][j]\n",
    "\t\t\t\n",
    "\t\t\tif(i == 0 and j == 0):\n",
    "\t\t\t\tResultMatrix[i][j] = Matrix[0][0]\n",
    "\t\t\telse:\n",
    "\t\t\t\tResultMatrix[i][j] = min(top, left, diagonal)\n",
    "\t\t\t\tif ResultMatrix[i][j] == top :\n",
    "\t\t\t\t\tupCount = upCount + 1\n",
    "\t\t\t\telif ResultMatrix[i][j] == left :\n",
    "\t\t\t\t\tleftCount = leftCount + 1\n",
    "\t\t\t\telse :\n",
    "\t\t\t\t\tdiagonalCount = diagonalCount + 1\n",
    "                    \n",
    "print('left count : ' + `leftCount`)\n",
    "print('diagonalCount : ' + `diagonalCount`)\n",
    "print('upCount : ' + `upCount`)"
   ]
  },
  {
   "cell_type": "markdown",
   "metadata": {},
   "source": [
    "# How often the diagonal is selected for C(M, N) ? "
   ]
  },
  {
   "cell_type": "code",
   "execution_count": 17,
   "metadata": {},
   "outputs": [
    {
     "name": "stdout",
     "output_type": "stream",
     "text": [
      "0.446\n"
     ]
    }
   ],
   "source": [
    "counter = 0\n",
    "diagonalCountMatrix = [[0 for x in range(w)] for y in range(h)]\n",
    "\n",
    "# get data from 10000 iterations\n",
    "for i in range(1000):\n",
    "\n",
    "\t# fill random stuff in the cost matrix\n",
    "\tMatrix = [[random.uniform(0, 1) for x in range(w)] for y in range(h)]\n",
    "\n",
    "\t# fill cumulative cost matrix with stuff\n",
    "\tfor i in range(h):\n",
    "\t\tfor j in range(w):\n",
    "\t\t\ttop = float('inf')\n",
    "\t\t\tleft = float('inf')\n",
    "\t\t\tdiagonal = float('inf')\n",
    "\t\t\tif(i - 1 >= 0):\n",
    "\t\t\t\ttop = ResultMatrix[i - 1][j] + Matrix[i][j]\n",
    "\t\t\t\n",
    "\t\t\tif(j - 1 >= 0):\n",
    "\t\t\t\tleft = ResultMatrix[i][j - 1]+ Matrix[i][j]\n",
    "\t\t\t\n",
    "\t\t\tif(i - 1 >= 0 and j - 1 >= 0):\n",
    "\t\t\t\tdiagonal = ResultMatrix[i - 1][j - 1] + Matrix[i][j]\n",
    "\t\t\t\n",
    "\t\t\tif(i == 0 and j == 0):\n",
    "\t\t\t\tResultMatrix[i][j] = Matrix[0][0]\n",
    "\t\t\telse:\n",
    "\t\t\t\tResultMatrix[i][j] = min(top, left, diagonal)\n",
    "\t\t\t\tif ResultMatrix[i][j] == top :\n",
    "\t\t\t\t\tupCount = upCount + 1\n",
    "\t\t\t\telif ResultMatrix[i][j] == left :\n",
    "\t\t\t\t\tleftCount = leftCount + 1\n",
    "\t\t\t\telse :\n",
    "\t\t\t\t\tdiagonalCountMatrix[i][j] = diagonalCountMatrix[i][j] + 1\n",
    "# \trow = h - 1\n",
    "# \tcolumn = w - 1\n",
    "# \ttop = ResultMatrix[row - 1][column]\n",
    "# \tleft = ResultMatrix[row][column - 1]\n",
    "# \tdiagonal = ResultMatrix[row - 1][column - 1]\n",
    "# \tchoice = min(top, left, diagonal)\n",
    "# \tif(choice == diagonal):\n",
    "# \t\tcounter = counter + 1\n",
    "for i in range(h):\n",
    "    for j in range(w):\n",
    "        diagonalCountMatrix[i][j] = 1.0 * diagonalCountMatrix/1000.0\n",
    "\n",
    "print(1.0 * counter/1000)"
   ]
  }
 ],
 "metadata": {
  "kernelspec": {
   "display_name": "Python 2",
   "language": "python",
   "name": "python2"
  },
  "language_info": {
   "codemirror_mode": {
    "name": "ipython",
    "version": 2
   },
   "file_extension": ".py",
   "mimetype": "text/x-python",
   "name": "python",
   "nbconvert_exporter": "python",
   "pygments_lexer": "ipython2",
   "version": "2.7.14"
  }
 },
 "nbformat": 4,
 "nbformat_minor": 2
}
